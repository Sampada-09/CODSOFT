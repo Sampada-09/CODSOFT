{
 "cells": [
  {
   "cell_type": "code",
   "execution_count": 1,
   "id": "cf1e0d9d",
   "metadata": {},
   "outputs": [],
   "source": [
    "import numpy as np\n",
    "import pandas as pd\n",
    "import matplotlib.pyplot as plt\n",
    "from sklearn.preprocessing import MinMaxScaler"
   ]
  },
  {
   "cell_type": "code",
   "execution_count": 2,
   "id": "0bfc7c45",
   "metadata": {},
   "outputs": [],
   "source": [
    "#load data\n",
    "df_car = pd.read_csv('car_purchasing.csv', encoding='latin')"
   ]
  },
  {
   "cell_type": "code",
   "execution_count": 3,
   "id": "63031958",
   "metadata": {},
   "outputs": [
    {
     "data": {
      "text/html": [
       "<div>\n",
       "<style scoped>\n",
       "    .dataframe tbody tr th:only-of-type {\n",
       "        vertical-align: middle;\n",
       "    }\n",
       "\n",
       "    .dataframe tbody tr th {\n",
       "        vertical-align: top;\n",
       "    }\n",
       "\n",
       "    .dataframe thead th {\n",
       "        text-align: right;\n",
       "    }\n",
       "</style>\n",
       "<table border=\"1\" class=\"dataframe\">\n",
       "  <thead>\n",
       "    <tr style=\"text-align: right;\">\n",
       "      <th></th>\n",
       "      <th>customer name</th>\n",
       "      <th>customer e-mail</th>\n",
       "      <th>country</th>\n",
       "      <th>gender</th>\n",
       "      <th>age</th>\n",
       "      <th>annual Salary</th>\n",
       "      <th>credit card debt</th>\n",
       "      <th>net worth</th>\n",
       "      <th>car purchase amount</th>\n",
       "    </tr>\n",
       "  </thead>\n",
       "  <tbody>\n",
       "    <tr>\n",
       "      <th>0</th>\n",
       "      <td>Martina Avila</td>\n",
       "      <td>cubilia.Curae.Phasellus@quisaccumsanconvallis.edu</td>\n",
       "      <td>Bulgaria</td>\n",
       "      <td>0</td>\n",
       "      <td>41.851720</td>\n",
       "      <td>62812.09301</td>\n",
       "      <td>11609.380910</td>\n",
       "      <td>238961.2505</td>\n",
       "      <td>35321.45877</td>\n",
       "    </tr>\n",
       "    <tr>\n",
       "      <th>1</th>\n",
       "      <td>Harlan Barnes</td>\n",
       "      <td>eu.dolor@diam.co.uk</td>\n",
       "      <td>Belize</td>\n",
       "      <td>0</td>\n",
       "      <td>40.870623</td>\n",
       "      <td>66646.89292</td>\n",
       "      <td>9572.957136</td>\n",
       "      <td>530973.9078</td>\n",
       "      <td>45115.52566</td>\n",
       "    </tr>\n",
       "    <tr>\n",
       "      <th>2</th>\n",
       "      <td>Naomi Rodriquez</td>\n",
       "      <td>vulputate.mauris.sagittis@ametconsectetueradip...</td>\n",
       "      <td>Algeria</td>\n",
       "      <td>1</td>\n",
       "      <td>43.152897</td>\n",
       "      <td>53798.55112</td>\n",
       "      <td>11160.355060</td>\n",
       "      <td>638467.1773</td>\n",
       "      <td>42925.70921</td>\n",
       "    </tr>\n",
       "    <tr>\n",
       "      <th>3</th>\n",
       "      <td>Jade Cunningham</td>\n",
       "      <td>malesuada@dignissim.com</td>\n",
       "      <td>Cook Islands</td>\n",
       "      <td>1</td>\n",
       "      <td>58.271369</td>\n",
       "      <td>79370.03798</td>\n",
       "      <td>14426.164850</td>\n",
       "      <td>548599.0524</td>\n",
       "      <td>67422.36313</td>\n",
       "    </tr>\n",
       "    <tr>\n",
       "      <th>4</th>\n",
       "      <td>Cedric Leach</td>\n",
       "      <td>felis.ullamcorper.viverra@egetmollislectus.net</td>\n",
       "      <td>Brazil</td>\n",
       "      <td>1</td>\n",
       "      <td>57.313749</td>\n",
       "      <td>59729.15130</td>\n",
       "      <td>5358.712177</td>\n",
       "      <td>560304.0671</td>\n",
       "      <td>55915.46248</td>\n",
       "    </tr>\n",
       "  </tbody>\n",
       "</table>\n",
       "</div>"
      ],
      "text/plain": [
       "     customer name                                    customer e-mail  \\\n",
       "0    Martina Avila  cubilia.Curae.Phasellus@quisaccumsanconvallis.edu   \n",
       "1    Harlan Barnes                                eu.dolor@diam.co.uk   \n",
       "2  Naomi Rodriquez  vulputate.mauris.sagittis@ametconsectetueradip...   \n",
       "3  Jade Cunningham                            malesuada@dignissim.com   \n",
       "4     Cedric Leach     felis.ullamcorper.viverra@egetmollislectus.net   \n",
       "\n",
       "        country  gender        age  annual Salary  credit card debt  \\\n",
       "0      Bulgaria       0  41.851720    62812.09301      11609.380910   \n",
       "1        Belize       0  40.870623    66646.89292       9572.957136   \n",
       "2       Algeria       1  43.152897    53798.55112      11160.355060   \n",
       "3  Cook Islands       1  58.271369    79370.03798      14426.164850   \n",
       "4        Brazil       1  57.313749    59729.15130       5358.712177   \n",
       "\n",
       "     net worth  car purchase amount  \n",
       "0  238961.2505          35321.45877  \n",
       "1  530973.9078          45115.52566  \n",
       "2  638467.1773          42925.70921  \n",
       "3  548599.0524          67422.36313  \n",
       "4  560304.0671          55915.46248  "
      ]
     },
     "execution_count": 3,
     "metadata": {},
     "output_type": "execute_result"
    }
   ],
   "source": [
    "df_car.head(5)"
   ]
  },
  {
   "cell_type": "code",
   "execution_count": 4,
   "id": "76badd74",
   "metadata": {},
   "outputs": [
    {
     "name": "stdout",
     "output_type": "stream",
     "text": [
      "<class 'pandas.core.frame.DataFrame'>\n",
      "RangeIndex: 500 entries, 0 to 499\n",
      "Data columns (total 9 columns):\n",
      " #   Column               Non-Null Count  Dtype  \n",
      "---  ------               --------------  -----  \n",
      " 0   customer name        500 non-null    object \n",
      " 1   customer e-mail      500 non-null    object \n",
      " 2   country              500 non-null    object \n",
      " 3   gender               500 non-null    int64  \n",
      " 4   age                  500 non-null    float64\n",
      " 5   annual Salary        500 non-null    float64\n",
      " 6   credit card debt     500 non-null    float64\n",
      " 7   net worth            500 non-null    float64\n",
      " 8   car purchase amount  500 non-null    float64\n",
      "dtypes: float64(5), int64(1), object(3)\n",
      "memory usage: 35.3+ KB\n"
     ]
    }
   ],
   "source": [
    "df_car.info()"
   ]
  },
  {
   "cell_type": "code",
   "execution_count": 5,
   "id": "90fc40a6",
   "metadata": {},
   "outputs": [
    {
     "data": {
      "text/html": [
       "<div>\n",
       "<style scoped>\n",
       "    .dataframe tbody tr th:only-of-type {\n",
       "        vertical-align: middle;\n",
       "    }\n",
       "\n",
       "    .dataframe tbody tr th {\n",
       "        vertical-align: top;\n",
       "    }\n",
       "\n",
       "    .dataframe thead th {\n",
       "        text-align: right;\n",
       "    }\n",
       "</style>\n",
       "<table border=\"1\" class=\"dataframe\">\n",
       "  <thead>\n",
       "    <tr style=\"text-align: right;\">\n",
       "      <th></th>\n",
       "      <th>gender</th>\n",
       "      <th>age</th>\n",
       "      <th>annual Salary</th>\n",
       "      <th>credit card debt</th>\n",
       "      <th>net worth</th>\n",
       "      <th>car purchase amount</th>\n",
       "    </tr>\n",
       "  </thead>\n",
       "  <tbody>\n",
       "    <tr>\n",
       "      <th>count</th>\n",
       "      <td>500.000000</td>\n",
       "      <td>500.000000</td>\n",
       "      <td>500.000000</td>\n",
       "      <td>500.000000</td>\n",
       "      <td>500.000000</td>\n",
       "      <td>500.000000</td>\n",
       "    </tr>\n",
       "    <tr>\n",
       "      <th>mean</th>\n",
       "      <td>0.506000</td>\n",
       "      <td>46.241674</td>\n",
       "      <td>62127.239608</td>\n",
       "      <td>9607.645049</td>\n",
       "      <td>431475.713625</td>\n",
       "      <td>44209.799218</td>\n",
       "    </tr>\n",
       "    <tr>\n",
       "      <th>std</th>\n",
       "      <td>0.500465</td>\n",
       "      <td>7.978862</td>\n",
       "      <td>11703.378228</td>\n",
       "      <td>3489.187973</td>\n",
       "      <td>173536.756340</td>\n",
       "      <td>10773.178744</td>\n",
       "    </tr>\n",
       "    <tr>\n",
       "      <th>min</th>\n",
       "      <td>0.000000</td>\n",
       "      <td>20.000000</td>\n",
       "      <td>20000.000000</td>\n",
       "      <td>100.000000</td>\n",
       "      <td>20000.000000</td>\n",
       "      <td>9000.000000</td>\n",
       "    </tr>\n",
       "    <tr>\n",
       "      <th>25%</th>\n",
       "      <td>0.000000</td>\n",
       "      <td>40.949969</td>\n",
       "      <td>54391.977195</td>\n",
       "      <td>7397.515792</td>\n",
       "      <td>299824.195900</td>\n",
       "      <td>37629.896040</td>\n",
       "    </tr>\n",
       "    <tr>\n",
       "      <th>50%</th>\n",
       "      <td>1.000000</td>\n",
       "      <td>46.049901</td>\n",
       "      <td>62915.497035</td>\n",
       "      <td>9655.035568</td>\n",
       "      <td>426750.120650</td>\n",
       "      <td>43997.783390</td>\n",
       "    </tr>\n",
       "    <tr>\n",
       "      <th>75%</th>\n",
       "      <td>1.000000</td>\n",
       "      <td>51.612263</td>\n",
       "      <td>70117.862005</td>\n",
       "      <td>11798.867487</td>\n",
       "      <td>557324.478725</td>\n",
       "      <td>51254.709517</td>\n",
       "    </tr>\n",
       "    <tr>\n",
       "      <th>max</th>\n",
       "      <td>1.000000</td>\n",
       "      <td>70.000000</td>\n",
       "      <td>100000.000000</td>\n",
       "      <td>20000.000000</td>\n",
       "      <td>1000000.000000</td>\n",
       "      <td>80000.000000</td>\n",
       "    </tr>\n",
       "  </tbody>\n",
       "</table>\n",
       "</div>"
      ],
      "text/plain": [
       "           gender         age  annual Salary  credit card debt  \\\n",
       "count  500.000000  500.000000     500.000000        500.000000   \n",
       "mean     0.506000   46.241674   62127.239608       9607.645049   \n",
       "std      0.500465    7.978862   11703.378228       3489.187973   \n",
       "min      0.000000   20.000000   20000.000000        100.000000   \n",
       "25%      0.000000   40.949969   54391.977195       7397.515792   \n",
       "50%      1.000000   46.049901   62915.497035       9655.035568   \n",
       "75%      1.000000   51.612263   70117.862005      11798.867487   \n",
       "max      1.000000   70.000000  100000.000000      20000.000000   \n",
       "\n",
       "            net worth  car purchase amount  \n",
       "count      500.000000           500.000000  \n",
       "mean    431475.713625         44209.799218  \n",
       "std     173536.756340         10773.178744  \n",
       "min      20000.000000          9000.000000  \n",
       "25%     299824.195900         37629.896040  \n",
       "50%     426750.120650         43997.783390  \n",
       "75%     557324.478725         51254.709517  \n",
       "max    1000000.000000         80000.000000  "
      ]
     },
     "execution_count": 5,
     "metadata": {},
     "output_type": "execute_result"
    }
   ],
   "source": [
    "df_car.describe()"
   ]
  },
  {
   "cell_type": "code",
   "execution_count": 6,
   "id": "59a4e9c2",
   "metadata": {},
   "outputs": [],
   "source": [
    "#drop columns which doesn't affect prediction sales\n",
    "df_car.drop(columns=['customer name', 'customer e-mail', 'country', 'gender'], inplace=True)"
   ]
  },
  {
   "cell_type": "code",
   "execution_count": 7,
   "id": "339b0115",
   "metadata": {},
   "outputs": [
    {
     "data": {
      "text/plain": [
       "(500, 5)"
      ]
     },
     "execution_count": 7,
     "metadata": {},
     "output_type": "execute_result"
    }
   ],
   "source": [
    "df_car.shape"
   ]
  },
  {
   "cell_type": "code",
   "execution_count": 8,
   "id": "f2808c4c",
   "metadata": {},
   "outputs": [],
   "source": [
    "X = df_car.drop('car purchase amount', axis=1)\n",
    "y = df_car['car purchase amount']"
   ]
  },
  {
   "cell_type": "code",
   "execution_count": 24,
   "id": "8ee8f470",
   "metadata": {},
   "outputs": [
    {
     "data": {
      "text/html": [
       "<div>\n",
       "<style scoped>\n",
       "    .dataframe tbody tr th:only-of-type {\n",
       "        vertical-align: middle;\n",
       "    }\n",
       "\n",
       "    .dataframe tbody tr th {\n",
       "        vertical-align: top;\n",
       "    }\n",
       "\n",
       "    .dataframe thead th {\n",
       "        text-align: right;\n",
       "    }\n",
       "</style>\n",
       "<table border=\"1\" class=\"dataframe\">\n",
       "  <thead>\n",
       "    <tr style=\"text-align: right;\">\n",
       "      <th></th>\n",
       "      <th>age</th>\n",
       "      <th>annual Salary</th>\n",
       "      <th>credit card debt</th>\n",
       "      <th>net worth</th>\n",
       "    </tr>\n",
       "  </thead>\n",
       "  <tbody>\n",
       "    <tr>\n",
       "      <th>0</th>\n",
       "      <td>41.851720</td>\n",
       "      <td>62812.09301</td>\n",
       "      <td>11609.380910</td>\n",
       "      <td>238961.2505</td>\n",
       "    </tr>\n",
       "    <tr>\n",
       "      <th>1</th>\n",
       "      <td>40.870623</td>\n",
       "      <td>66646.89292</td>\n",
       "      <td>9572.957136</td>\n",
       "      <td>530973.9078</td>\n",
       "    </tr>\n",
       "    <tr>\n",
       "      <th>2</th>\n",
       "      <td>43.152897</td>\n",
       "      <td>53798.55112</td>\n",
       "      <td>11160.355060</td>\n",
       "      <td>638467.1773</td>\n",
       "    </tr>\n",
       "    <tr>\n",
       "      <th>3</th>\n",
       "      <td>58.271369</td>\n",
       "      <td>79370.03798</td>\n",
       "      <td>14426.164850</td>\n",
       "      <td>548599.0524</td>\n",
       "    </tr>\n",
       "    <tr>\n",
       "      <th>4</th>\n",
       "      <td>57.313749</td>\n",
       "      <td>59729.15130</td>\n",
       "      <td>5358.712177</td>\n",
       "      <td>560304.0671</td>\n",
       "    </tr>\n",
       "    <tr>\n",
       "      <th>...</th>\n",
       "      <td>...</td>\n",
       "      <td>...</td>\n",
       "      <td>...</td>\n",
       "      <td>...</td>\n",
       "    </tr>\n",
       "    <tr>\n",
       "      <th>495</th>\n",
       "      <td>41.462515</td>\n",
       "      <td>71942.40291</td>\n",
       "      <td>6995.902524</td>\n",
       "      <td>541670.1016</td>\n",
       "    </tr>\n",
       "    <tr>\n",
       "      <th>496</th>\n",
       "      <td>37.642000</td>\n",
       "      <td>56039.49793</td>\n",
       "      <td>12301.456790</td>\n",
       "      <td>360419.0988</td>\n",
       "    </tr>\n",
       "    <tr>\n",
       "      <th>497</th>\n",
       "      <td>53.943497</td>\n",
       "      <td>68888.77805</td>\n",
       "      <td>10611.606860</td>\n",
       "      <td>764531.3203</td>\n",
       "    </tr>\n",
       "    <tr>\n",
       "      <th>498</th>\n",
       "      <td>59.160509</td>\n",
       "      <td>49811.99062</td>\n",
       "      <td>14013.034510</td>\n",
       "      <td>337826.6382</td>\n",
       "    </tr>\n",
       "    <tr>\n",
       "      <th>499</th>\n",
       "      <td>46.731152</td>\n",
       "      <td>61370.67766</td>\n",
       "      <td>9391.341628</td>\n",
       "      <td>462946.4924</td>\n",
       "    </tr>\n",
       "  </tbody>\n",
       "</table>\n",
       "<p>500 rows × 4 columns</p>\n",
       "</div>"
      ],
      "text/plain": [
       "           age  annual Salary  credit card debt    net worth\n",
       "0    41.851720    62812.09301      11609.380910  238961.2505\n",
       "1    40.870623    66646.89292       9572.957136  530973.9078\n",
       "2    43.152897    53798.55112      11160.355060  638467.1773\n",
       "3    58.271369    79370.03798      14426.164850  548599.0524\n",
       "4    57.313749    59729.15130       5358.712177  560304.0671\n",
       "..         ...            ...               ...          ...\n",
       "495  41.462515    71942.40291       6995.902524  541670.1016\n",
       "496  37.642000    56039.49793      12301.456790  360419.0988\n",
       "497  53.943497    68888.77805      10611.606860  764531.3203\n",
       "498  59.160509    49811.99062      14013.034510  337826.6382\n",
       "499  46.731152    61370.67766       9391.341628  462946.4924\n",
       "\n",
       "[500 rows x 4 columns]"
      ]
     },
     "execution_count": 24,
     "metadata": {},
     "output_type": "execute_result"
    }
   ],
   "source": [
    "X"
   ]
  },
  {
   "cell_type": "code",
   "execution_count": 25,
   "id": "f3aa9226",
   "metadata": {},
   "outputs": [
    {
     "data": {
      "text/plain": [
       "0      35321.45877\n",
       "1      45115.52566\n",
       "2      42925.70921\n",
       "3      67422.36313\n",
       "4      55915.46248\n",
       "          ...     \n",
       "495    48901.44342\n",
       "496    31491.41457\n",
       "497    64147.28888\n",
       "498    45442.15353\n",
       "499    45107.22566\n",
       "Name: car purchase amount, Length: 500, dtype: float64"
      ]
     },
     "execution_count": 25,
     "metadata": {},
     "output_type": "execute_result"
    }
   ],
   "source": [
    "y"
   ]
  },
  {
   "cell_type": "code",
   "execution_count": 28,
   "id": "ab4536a7",
   "metadata": {},
   "outputs": [],
   "source": [
    "# Use separate scalers for features and target\n",
    "scaler = MinMaxScaler()\n",
    "\n",
    "X_scaled = scaler.fit_transform(X)\n",
    "y_scaled = scaler.fit_transform(y.values.reshape(-1, 1))"
   ]
  },
  {
   "cell_type": "code",
   "execution_count": 29,
   "id": "edfb5094",
   "metadata": {},
   "outputs": [],
   "source": [
    "#!pip install tensorflow"
   ]
  },
  {
   "cell_type": "code",
   "execution_count": 30,
   "id": "986557fd",
   "metadata": {},
   "outputs": [],
   "source": [
    "from sklearn.model_selection import train_test_split\n",
    "from tensorflow.keras.layers import Dense, Dropout\n",
    "from tensorflow.keras.models import Sequential\n",
    "from tensorflow.keras.callbacks import EarlyStopping\n",
    "from sklearn.metrics import r2_score"
   ]
  },
  {
   "cell_type": "code",
   "execution_count": 14,
   "id": "1560a7ef",
   "metadata": {},
   "outputs": [],
   "source": [
    "X_train, X_test, y_train, y_test = train_test_split(X, y, test_size=0.2, random_state=0)"
   ]
  },
  {
   "cell_type": "code",
   "execution_count": 31,
   "id": "dbfaa833",
   "metadata": {},
   "outputs": [],
   "source": [
    "model = Sequential()\n",
    "model.add(Dense(10, activation='relu', input_dim=4))\n",
    "model.add(Dense(10, activation='relu'))\n",
    "model.add(Dense(1, activation='linear'))"
   ]
  },
  {
   "cell_type": "code",
   "execution_count": 32,
   "id": "8b11f91c",
   "metadata": {},
   "outputs": [
    {
     "name": "stdout",
     "output_type": "stream",
     "text": [
      "Model: \"sequential_1\"\n",
      "_________________________________________________________________\n",
      " Layer (type)                Output Shape              Param #   \n",
      "=================================================================\n",
      " dense_3 (Dense)             (None, 10)                50        \n",
      "                                                                 \n",
      " dense_4 (Dense)             (None, 10)                110       \n",
      "                                                                 \n",
      " dense_5 (Dense)             (None, 1)                 11        \n",
      "                                                                 \n",
      "=================================================================\n",
      "Total params: 171 (684.00 Byte)\n",
      "Trainable params: 171 (684.00 Byte)\n",
      "Non-trainable params: 0 (0.00 Byte)\n",
      "_________________________________________________________________\n"
     ]
    }
   ],
   "source": [
    "model.compile(optimizer='adam', loss='mean_squared_error', metrics=['mean_absolute_error'])\n",
    "model.summary()"
   ]
  },
  {
   "cell_type": "code",
   "execution_count": 34,
   "id": "21db63fc",
   "metadata": {},
   "outputs": [],
   "source": [
    "# Training with early stopping\n",
    "early_stopping = EarlyStopping(monitor='val_loss', patience=10, restore_best_weights=True)"
   ]
  },
  {
   "cell_type": "code",
   "execution_count": 35,
   "id": "84d9c6ea",
   "metadata": {},
   "outputs": [
    {
     "name": "stdout",
     "output_type": "stream",
     "text": [
      "Epoch 1/100\n",
      "10/10 [==============================] - 2s 44ms/step - loss: 521753408.0000 - mean_absolute_error: 18362.1875 - val_loss: 573398848.0000 - val_mean_absolute_error: 19069.4492\n",
      "Epoch 2/100\n",
      "10/10 [==============================] - 0s 13ms/step - loss: 475726784.0000 - mean_absolute_error: 17610.0078 - val_loss: 521724064.0000 - val_mean_absolute_error: 18245.3242\n",
      "Epoch 3/100\n",
      "10/10 [==============================] - 0s 12ms/step - loss: 412904832.0000 - mean_absolute_error: 16326.7871 - val_loss: 448010848.0000 - val_mean_absolute_error: 16753.7109\n",
      "Epoch 4/100\n",
      "10/10 [==============================] - 0s 12ms/step - loss: 381115328.0000 - mean_absolute_error: 15629.5234 - val_loss: 420698176.0000 - val_mean_absolute_error: 16249.9531\n",
      "Epoch 5/100\n",
      "10/10 [==============================] - 0s 12ms/step - loss: 357379456.0000 - mean_absolute_error: 15138.6768 - val_loss: 396786176.0000 - val_mean_absolute_error: 15703.3906\n",
      "Epoch 6/100\n",
      "10/10 [==============================] - 0s 12ms/step - loss: 338030016.0000 - mean_absolute_error: 14759.5137 - val_loss: 373439040.0000 - val_mean_absolute_error: 15290.9189\n",
      "Epoch 7/100\n",
      "10/10 [==============================] - 0s 11ms/step - loss: 314315424.0000 - mean_absolute_error: 14249.8730 - val_loss: 335740832.0000 - val_mean_absolute_error: 14527.8252\n",
      "Epoch 8/100\n",
      "10/10 [==============================] - 0s 11ms/step - loss: 288586688.0000 - mean_absolute_error: 13607.2266 - val_loss: 301353184.0000 - val_mean_absolute_error: 13728.0654\n",
      "Epoch 9/100\n",
      "10/10 [==============================] - 0s 11ms/step - loss: 256671824.0000 - mean_absolute_error: 12842.0488 - val_loss: 261635808.0000 - val_mean_absolute_error: 12739.9814\n",
      "Epoch 10/100\n",
      "10/10 [==============================] - 0s 10ms/step - loss: 221904896.0000 - mean_absolute_error: 11832.8857 - val_loss: 217761408.0000 - val_mean_absolute_error: 11549.1738\n",
      "Epoch 11/100\n",
      "10/10 [==============================] - 0s 12ms/step - loss: 188536608.0000 - mean_absolute_error: 10842.7051 - val_loss: 185193312.0000 - val_mean_absolute_error: 10675.9199\n",
      "Epoch 12/100\n",
      "10/10 [==============================] - 0s 11ms/step - loss: 162798112.0000 - mean_absolute_error: 10016.3418 - val_loss: 161162592.0000 - val_mean_absolute_error: 10009.8193\n",
      "Epoch 13/100\n",
      "10/10 [==============================] - 0s 10ms/step - loss: 144065712.0000 - mean_absolute_error: 9387.6035 - val_loss: 139481376.0000 - val_mean_absolute_error: 9322.9199\n",
      "Epoch 14/100\n",
      "10/10 [==============================] - 0s 11ms/step - loss: 129452416.0000 - mean_absolute_error: 8894.7715 - val_loss: 121599152.0000 - val_mean_absolute_error: 8685.4785\n",
      "Epoch 15/100\n",
      "10/10 [==============================] - 0s 10ms/step - loss: 114941200.0000 - mean_absolute_error: 8343.0244 - val_loss: 108877808.0000 - val_mean_absolute_error: 8242.6006\n",
      "Epoch 16/100\n",
      "10/10 [==============================] - 0s 11ms/step - loss: 103387112.0000 - mean_absolute_error: 7939.4346 - val_loss: 96671768.0000 - val_mean_absolute_error: 7797.7593\n",
      "Epoch 17/100\n",
      "10/10 [==============================] - 0s 11ms/step - loss: 93313392.0000 - mean_absolute_error: 7555.2251 - val_loss: 85899992.0000 - val_mean_absolute_error: 7393.4766\n",
      "Epoch 18/100\n",
      "10/10 [==============================] - 0s 12ms/step - loss: 83760952.0000 - mean_absolute_error: 7170.5322 - val_loss: 77922256.0000 - val_mean_absolute_error: 7090.4053\n",
      "Epoch 19/100\n",
      "10/10 [==============================] - 0s 11ms/step - loss: 76567024.0000 - mean_absolute_error: 6891.0889 - val_loss: 70839104.0000 - val_mean_absolute_error: 6809.6040\n",
      "Epoch 20/100\n",
      "10/10 [==============================] - 0s 11ms/step - loss: 70225680.0000 - mean_absolute_error: 6611.8828 - val_loss: 64638476.0000 - val_mean_absolute_error: 6555.4990\n",
      "Epoch 21/100\n",
      "10/10 [==============================] - 0s 11ms/step - loss: 64664168.0000 - mean_absolute_error: 6348.8135 - val_loss: 59870056.0000 - val_mean_absolute_error: 6354.5933\n",
      "Epoch 22/100\n",
      "10/10 [==============================] - 0s 11ms/step - loss: 60254440.0000 - mean_absolute_error: 6134.7686 - val_loss: 56050728.0000 - val_mean_absolute_error: 6198.4751\n",
      "Epoch 23/100\n",
      "10/10 [==============================] - 0s 11ms/step - loss: 56867372.0000 - mean_absolute_error: 5976.8638 - val_loss: 53586348.0000 - val_mean_absolute_error: 6083.1592\n",
      "Epoch 24/100\n",
      "10/10 [==============================] - 0s 11ms/step - loss: 54269400.0000 - mean_absolute_error: 5830.9561 - val_loss: 52133832.0000 - val_mean_absolute_error: 6013.1841\n",
      "Epoch 25/100\n",
      "10/10 [==============================] - 0s 11ms/step - loss: 51780696.0000 - mean_absolute_error: 5704.6968 - val_loss: 50810396.0000 - val_mean_absolute_error: 5987.9150\n",
      "Epoch 26/100\n",
      "10/10 [==============================] - 0s 11ms/step - loss: 50624760.0000 - mean_absolute_error: 5626.9653 - val_loss: 50183432.0000 - val_mean_absolute_error: 5974.2666\n",
      "Epoch 27/100\n",
      "10/10 [==============================] - 0s 11ms/step - loss: 49591712.0000 - mean_absolute_error: 5572.4541 - val_loss: 49753144.0000 - val_mean_absolute_error: 5973.9541\n",
      "Epoch 28/100\n",
      "10/10 [==============================] - 0s 9ms/step - loss: 48602444.0000 - mean_absolute_error: 5498.6860 - val_loss: 49813176.0000 - val_mean_absolute_error: 5995.0205\n",
      "Epoch 29/100\n",
      "10/10 [==============================] - 0s 10ms/step - loss: 47781076.0000 - mean_absolute_error: 5457.7568 - val_loss: 49607480.0000 - val_mean_absolute_error: 5991.6089\n",
      "Epoch 30/100\n",
      "10/10 [==============================] - 0s 10ms/step - loss: 47381540.0000 - mean_absolute_error: 5433.1943 - val_loss: 51029544.0000 - val_mean_absolute_error: 6047.5562\n",
      "Epoch 31/100\n",
      "10/10 [==============================] - 0s 10ms/step - loss: 46870136.0000 - mean_absolute_error: 5406.0186 - val_loss: 49668904.0000 - val_mean_absolute_error: 5990.5698\n",
      "Epoch 32/100\n",
      "10/10 [==============================] - 0s 9ms/step - loss: 46942088.0000 - mean_absolute_error: 5413.2500 - val_loss: 50189792.0000 - val_mean_absolute_error: 6024.6641\n",
      "Epoch 33/100\n",
      "10/10 [==============================] - 0s 10ms/step - loss: 46780588.0000 - mean_absolute_error: 5407.9707 - val_loss: 50041436.0000 - val_mean_absolute_error: 6013.7993\n",
      "Epoch 34/100\n",
      "10/10 [==============================] - 0s 10ms/step - loss: 46687476.0000 - mean_absolute_error: 5411.4688 - val_loss: 50732168.0000 - val_mean_absolute_error: 6045.6992\n",
      "Epoch 35/100\n",
      "10/10 [==============================] - 0s 10ms/step - loss: 46579604.0000 - mean_absolute_error: 5429.6831 - val_loss: 50750116.0000 - val_mean_absolute_error: 6045.8223\n",
      "Epoch 36/100\n",
      "10/10 [==============================] - 0s 10ms/step - loss: 47056104.0000 - mean_absolute_error: 5456.1323 - val_loss: 51511448.0000 - val_mean_absolute_error: 6066.0767\n",
      "Epoch 37/100\n",
      "10/10 [==============================] - 0s 10ms/step - loss: 46940576.0000 - mean_absolute_error: 5430.8809 - val_loss: 50508292.0000 - val_mean_absolute_error: 6030.1191\n",
      "Epoch 38/100\n",
      "10/10 [==============================] - 0s 10ms/step - loss: 46613944.0000 - mean_absolute_error: 5423.7998 - val_loss: 50967020.0000 - val_mean_absolute_error: 6050.5791\n",
      "Epoch 39/100\n",
      "10/10 [==============================] - 0s 10ms/step - loss: 46180140.0000 - mean_absolute_error: 5388.8032 - val_loss: 50707800.0000 - val_mean_absolute_error: 6035.1680\n"
     ]
    }
   ],
   "source": [
    "history = model.fit(X_train, y_train, epochs=100, batch_size=32, validation_split=0.2, callbacks=[early_stopping])"
   ]
  },
  {
   "cell_type": "code",
   "execution_count": 36,
   "id": "a38c5510",
   "metadata": {},
   "outputs": [
    {
     "data": {
      "text/plain": [
       "<matplotlib.legend.Legend at 0x1dea4a25090>"
      ]
     },
     "execution_count": 36,
     "metadata": {},
     "output_type": "execute_result"
    },
    {
     "data": {
      "image/png": "[encoded data removed]",
      "text/plain": [
       "<Figure size 2000x800 with 1 Axes>"
      ]
     },
     "metadata": {},
     "output_type": "display_data"
    }
   ],
   "source": [
    "# Plot training history\n",
    "plt.figure(figsize=(20, 8))\n",
    "plt.style.use('fivethirtyeight')\n",
    "\n",
    "plt.subplot(1, 2, 1)\n",
    "plt.plot(history.history['loss'], 'r', label='Training loss')\n",
    "plt.plot(history.history['val_loss'], 'g', label='Validation loss')\n",
    "plt.title('Training and Validation Loss')\n",
    "plt.xlabel('Epochs')\n",
    "plt.ylabel('Loss')\n",
    "plt.legend()"
   ]
  },
  {
   "cell_type": "code",
   "execution_count": 37,
   "id": "c768ed25",
   "metadata": {},
   "outputs": [
    {
     "data": {
      "image/png": "[encoded data removed]",
      "text/plain": [
       "<Figure size 2000x800 with 1 Axes>"
      ]
     },
     "metadata": {},
     "output_type": "display_data"
    }
   ],
   "source": [
    "plt.figure(figsize=(20, 8))\n",
    "plt.style.use('fivethirtyeight')\n",
    "\n",
    "plt.subplot(1, 2, 2)\n",
    "plt.plot(history.history['mean_absolute_error'], 'r', label='Training MAE')\n",
    "plt.plot(history.history['val_mean_absolute_error'], 'g', label='Validation MAE')\n",
    "plt.title('Training and Validation MAE')\n",
    "plt.xlabel('Epochs')\n",
    "plt.ylabel('MAE')\n",
    "plt.legend()\n",
    "plt.tight_layout()\n",
    "plt.show()"
   ]
  },
  {
   "cell_type": "code",
   "execution_count": 38,
   "id": "48b74443",
   "metadata": {},
   "outputs": [
    {
     "name": "stdout",
     "output_type": "stream",
     "text": [
      "4/4 [==============================] - 0s 4ms/step\n"
     ]
    }
   ],
   "source": [
    "# Model evaluation\n",
    "y_pred = model.predict(X_test)"
   ]
  },
  {
   "cell_type": "code",
   "execution_count": 39,
   "id": "f40fb01d",
   "metadata": {},
   "outputs": [
    {
     "name": "stdout",
     "output_type": "stream",
     "text": [
      "R2 Score: 0.6288958993084832\n"
     ]
    }
   ],
   "source": [
    "R2 = r2_score(y_test, y_pred)\n",
    "print(\"R2 Score:\", R2)"
   ]
  },
  {
   "cell_type": "code",
   "execution_count": null,
   "id": "4d1c240c",
   "metadata": {},
   "outputs": [],
   "source": []
  }
 ],
 "metadata": {
  "kernelspec": {
   "display_name": "Python 3 (ipykernel)",
   "language": "python",
   "name": "python3"
  },
  "language_info": {
   "codemirror_mode": {
    "name": "ipython",
    "version": 3
   },
   "file_extension": ".py",
   "mimetype": "text/x-python",
   "name": "python",
   "nbconvert_exporter": "python",
   "pygments_lexer": "ipython3",
   "version": "3.11.5"
  }
 },
 "nbformat": 4,
 "nbformat_minor": 5
}
